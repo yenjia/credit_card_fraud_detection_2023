{
 "cells": [
  {
   "cell_type": "code",
   "execution_count": 1,
   "id": "108673c2-26ac-49bb-bb6c-92992b2a14b2",
   "metadata": {},
   "outputs": [],
   "source": [
    "import os \n",
    "from glob import glob\n",
    "import json\n",
    "import pandas as pd\n",
    "from xgboost import XGBClassifier\n",
    "from sklearn.metrics import classification_report\n",
    "import gc"
   ]
  },
  {
   "cell_type": "code",
   "execution_count": 2,
   "id": "71e74dc1-d18d-49c5-ab46-52bd3b9d3673",
   "metadata": {},
   "outputs": [],
   "source": [
    "no_usecols = [\n",
    "    \"txkey\",\n",
    "    \"chid\",\n",
    "    \"cano\",\n",
    "    \"set\",\n",
    "]"
   ]
  },
  {
   "cell_type": "code",
   "execution_count": 17,
   "id": "69453f6e-e916-4ae5-a8f5-6d88b6813b64",
   "metadata": {},
   "outputs": [],
   "source": [
    "data = pd.read_csv(\"/data2/ovary/hw_tmp/preprocessing_v2.csv\")\n",
    "keys = sorted(list(data.columns))"
   ]
  },
  {
   "cell_type": "code",
   "execution_count": 18,
   "id": "5fd1479f-28d2-4900-8885-dfc2599e94b0",
   "metadata": {},
   "outputs": [],
   "source": [
    "for i in [\"mchno\", \"acqic\", \"mode_group_acqic\", \"mode_group_acqic_2\", \"mode_group_mchno\", \"mode_group_mchno_2\"]:\n",
    "    data[i] = data[i].astype(\"category\")"
   ]
  },
  {
   "cell_type": "code",
   "execution_count": 19,
   "id": "7e36c1c2-e498-4d97-b85e-4a7bd8d4f1b2",
   "metadata": {},
   "outputs": [],
   "source": [
    "test_df = data[data[\"set\"] == \"public_test\"][data.columns.difference(no_usecols)]"
   ]
  },
  {
   "cell_type": "code",
   "execution_count": 20,
   "id": "4c6043b0-1028-420b-997d-661fd308da7f",
   "metadata": {},
   "outputs": [],
   "source": [
    "models_list = glob(os.path.join(\"/data2/ovary/hw_tmp/previous_submit/\", \"*.json\"))\n",
    "thrs = json.load(open(\"credit_card_fraud_detection_2023/config/thr.json\"))"
   ]
  },
  {
   "cell_type": "code",
   "execution_count": 21,
   "id": "a4613da5-e58c-4a0a-aa4b-ad2ef6779534",
   "metadata": {},
   "outputs": [
    {
     "name": "stderr",
     "output_type": "stream",
     "text": [
      "/home/u/yenjia/miniconda3/envs/fintech/lib/python3.9/site-packages/xgboost/data.py:463: FutureWarning: is_sparse is deprecated and will be removed in a future version. Check `isinstance(dtype, pd.SparseDtype)` instead.\n",
      "  or is_sparse(dtype)\n",
      "/home/u/yenjia/miniconda3/envs/fintech/lib/python3.9/site-packages/xgboost/data.py:464: FutureWarning: is_categorical_dtype is deprecated and will be removed in a future version. Use isinstance(dtype, CategoricalDtype) instead\n",
      "  or (is_categorical_dtype(dtype) and enable_categorical)\n",
      "/home/u/yenjia/miniconda3/envs/fintech/lib/python3.9/site-packages/xgboost/data.py:335: FutureWarning: is_sparse is deprecated and will be removed in a future version. Check `isinstance(dtype, pd.SparseDtype)` instead.\n",
      "  if is_sparse(dtype):\n",
      "/home/u/yenjia/miniconda3/envs/fintech/lib/python3.9/site-packages/xgboost/data.py:338: FutureWarning: is_categorical_dtype is deprecated and will be removed in a future version. Use isinstance(dtype, CategoricalDtype) instead\n",
      "  is_categorical_dtype(dtype) or is_pa_ext_categorical_dtype(dtype)\n",
      "/home/u/yenjia/miniconda3/envs/fintech/lib/python3.9/site-packages/xgboost/data.py:384: FutureWarning: is_categorical_dtype is deprecated and will be removed in a future version. Use isinstance(dtype, CategoricalDtype) instead\n",
      "  if is_categorical_dtype(dtype):\n",
      "/home/u/yenjia/miniconda3/envs/fintech/lib/python3.9/site-packages/xgboost/data.py:359: FutureWarning: is_categorical_dtype is deprecated and will be removed in a future version. Use isinstance(dtype, CategoricalDtype) instead\n",
      "  return is_int or is_bool or is_float or is_categorical_dtype(dtype)\n",
      "/home/u/yenjia/miniconda3/envs/fintech/lib/python3.9/site-packages/xgboost/data.py:401: FutureWarning: is_categorical_dtype is deprecated and will be removed in a future version. Use isinstance(dtype, CategoricalDtype) instead\n",
      "  if is_categorical_dtype(ser.dtype):\n",
      "/home/u/yenjia/miniconda3/envs/fintech/lib/python3.9/site-packages/xgboost/data.py:463: FutureWarning: is_sparse is deprecated and will be removed in a future version. Check `isinstance(dtype, pd.SparseDtype)` instead.\n",
      "  or is_sparse(dtype)\n",
      "/home/u/yenjia/miniconda3/envs/fintech/lib/python3.9/site-packages/xgboost/data.py:464: FutureWarning: is_categorical_dtype is deprecated and will be removed in a future version. Use isinstance(dtype, CategoricalDtype) instead\n",
      "  or (is_categorical_dtype(dtype) and enable_categorical)\n",
      "/home/u/yenjia/miniconda3/envs/fintech/lib/python3.9/site-packages/xgboost/data.py:335: FutureWarning: is_sparse is deprecated and will be removed in a future version. Check `isinstance(dtype, pd.SparseDtype)` instead.\n",
      "  if is_sparse(dtype):\n",
      "/home/u/yenjia/miniconda3/envs/fintech/lib/python3.9/site-packages/xgboost/data.py:338: FutureWarning: is_categorical_dtype is deprecated and will be removed in a future version. Use isinstance(dtype, CategoricalDtype) instead\n",
      "  is_categorical_dtype(dtype) or is_pa_ext_categorical_dtype(dtype)\n",
      "/home/u/yenjia/miniconda3/envs/fintech/lib/python3.9/site-packages/xgboost/data.py:384: FutureWarning: is_categorical_dtype is deprecated and will be removed in a future version. Use isinstance(dtype, CategoricalDtype) instead\n",
      "  if is_categorical_dtype(dtype):\n",
      "/home/u/yenjia/miniconda3/envs/fintech/lib/python3.9/site-packages/xgboost/data.py:359: FutureWarning: is_categorical_dtype is deprecated and will be removed in a future version. Use isinstance(dtype, CategoricalDtype) instead\n",
      "  return is_int or is_bool or is_float or is_categorical_dtype(dtype)\n",
      "/home/u/yenjia/miniconda3/envs/fintech/lib/python3.9/site-packages/xgboost/data.py:401: FutureWarning: is_categorical_dtype is deprecated and will be removed in a future version. Use isinstance(dtype, CategoricalDtype) instead\n",
      "  if is_categorical_dtype(ser.dtype):\n",
      "/home/u/yenjia/miniconda3/envs/fintech/lib/python3.9/site-packages/xgboost/data.py:463: FutureWarning: is_sparse is deprecated and will be removed in a future version. Check `isinstance(dtype, pd.SparseDtype)` instead.\n",
      "  or is_sparse(dtype)\n",
      "/home/u/yenjia/miniconda3/envs/fintech/lib/python3.9/site-packages/xgboost/data.py:464: FutureWarning: is_categorical_dtype is deprecated and will be removed in a future version. Use isinstance(dtype, CategoricalDtype) instead\n",
      "  or (is_categorical_dtype(dtype) and enable_categorical)\n",
      "/home/u/yenjia/miniconda3/envs/fintech/lib/python3.9/site-packages/xgboost/data.py:335: FutureWarning: is_sparse is deprecated and will be removed in a future version. Check `isinstance(dtype, pd.SparseDtype)` instead.\n",
      "  if is_sparse(dtype):\n",
      "/home/u/yenjia/miniconda3/envs/fintech/lib/python3.9/site-packages/xgboost/data.py:338: FutureWarning: is_categorical_dtype is deprecated and will be removed in a future version. Use isinstance(dtype, CategoricalDtype) instead\n",
      "  is_categorical_dtype(dtype) or is_pa_ext_categorical_dtype(dtype)\n",
      "/home/u/yenjia/miniconda3/envs/fintech/lib/python3.9/site-packages/xgboost/data.py:384: FutureWarning: is_categorical_dtype is deprecated and will be removed in a future version. Use isinstance(dtype, CategoricalDtype) instead\n",
      "  if is_categorical_dtype(dtype):\n",
      "/home/u/yenjia/miniconda3/envs/fintech/lib/python3.9/site-packages/xgboost/data.py:359: FutureWarning: is_categorical_dtype is deprecated and will be removed in a future version. Use isinstance(dtype, CategoricalDtype) instead\n",
      "  return is_int or is_bool or is_float or is_categorical_dtype(dtype)\n",
      "/home/u/yenjia/miniconda3/envs/fintech/lib/python3.9/site-packages/xgboost/data.py:401: FutureWarning: is_categorical_dtype is deprecated and will be removed in a future version. Use isinstance(dtype, CategoricalDtype) instead\n",
      "  if is_categorical_dtype(ser.dtype):\n"
     ]
    }
   ],
   "source": [
    "submit = pd.DataFrame()\n",
    "submit[\"label\"] = test_df[\"label\"]\n",
    "for idx, model_path in enumerate(models_list):\n",
    "    gc.collect()\n",
    "    m = XGBClassifier()\n",
    "    m.load_model(model_path)\n",
    "    test_probs = m.predict_proba(test_df.drop(\"label\", axis=1))\n",
    "    test_preds = (test_probs[:, 1]>thrs[idx]).astype(int)\n",
    "    submit[f\"pred_{idx}\"] = test_preds"
   ]
  },
  {
   "cell_type": "code",
   "execution_count": 22,
   "id": "43d962bb-a246-4150-8411-180a5af48518",
   "metadata": {},
   "outputs": [
    {
     "name": "stdout",
     "output_type": "stream",
     "text": [
      "              precision    recall  f1-score   support\n",
      "\n",
      "         0.0       1.00      1.00      1.00    606856\n",
      "         1.0       0.99      0.92      0.95      2184\n",
      "\n",
      "    accuracy                           1.00    609040\n",
      "   macro avg       0.99      0.96      0.98    609040\n",
      "weighted avg       1.00      1.00      1.00    609040\n",
      "\n"
     ]
    }
   ],
   "source": [
    "submit[\"pred\"] = submit[[f\"pred_{i}\" for i in range(3)]].sum(axis=1)\n",
    "submit[\"pred\"] = (submit[\"pred\"] >= 2).astype(int)\n",
    "print(classification_report(submit[\"label\"], submit[\"pred\"]))"
   ]
  }
 ],
 "metadata": {
  "kernelspec": {
   "display_name": "Python 3 (ipykernel)",
   "language": "python",
   "name": "python3"
  },
  "language_info": {
   "codemirror_mode": {
    "name": "ipython",
    "version": 3
   },
   "file_extension": ".py",
   "mimetype": "text/x-python",
   "name": "python",
   "nbconvert_exporter": "python",
   "pygments_lexer": "ipython3",
   "version": "3.9.13"
  }
 },
 "nbformat": 4,
 "nbformat_minor": 5
}
